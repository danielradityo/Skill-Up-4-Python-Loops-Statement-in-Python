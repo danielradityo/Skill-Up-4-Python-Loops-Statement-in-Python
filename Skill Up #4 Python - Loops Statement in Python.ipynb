{
 "cells": [
  {
   "cell_type": "markdown",
   "metadata": {},
   "source": [
    "# Loop"
   ]
  },
  {
   "cell_type": "markdown",
   "metadata": {},
   "source": [
    "## While Loop\n",
    "Loop using while loop"
   ]
  },
  {
   "cell_type": "code",
   "execution_count": 4,
   "metadata": {},
   "outputs": [
    {
     "name": "stdout",
     "output_type": "stream",
     "text": [
      "The count is:  10\n",
      "The count is:  9\n",
      "The count is:  8\n",
      "The count is:  7\n",
      "The count is:  6\n",
      "The count is:  5\n",
      "The count is:  4\n",
      "The count is:  3\n",
      "The count is:  2\n",
      "The count is:  1\n",
      "Happy New Year!\n"
     ]
    }
   ],
   "source": [
    "# While Loop\n",
    "count = 10\n",
    "while count > 0:\n",
    "    print('The count is: ', count)\n",
    "    count -= 1\n",
    "print('Happy New Year!')"
   ]
  },
  {
   "cell_type": "markdown",
   "metadata": {},
   "source": [
    "## For Loop\n",
    "Loop using for loop"
   ]
  },
  {
   "cell_type": "code",
   "execution_count": 9,
   "metadata": {},
   "outputs": [
    {
     "name": "stdout",
     "output_type": "stream",
     "text": [
      "Current food: burger\n",
      "Current food: hot dog\n",
      "Current food: kebab\n",
      "Current food: taco\n"
     ]
    }
   ],
   "source": [
    "# For Loop\n",
    "\n",
    "food = ['burger', 'hot dog', 'kebab', 'taco']\n",
    "\n",
    "for i in food:\n",
    "    print('Current food:', i)"
   ]
  },
  {
   "cell_type": "code",
   "execution_count": 10,
   "metadata": {},
   "outputs": [
    {
     "name": "stdout",
     "output_type": "stream",
     "text": [
      "Current food:  burger\n",
      "Current food:  hot dog\n",
      "Current food:  kebab\n",
      "Current food:  taco\n"
     ]
    }
   ],
   "source": [
    "# For Loop with len\n",
    "for i in range(len(food)):\n",
    "    print('Current food: ', food[i])"
   ]
  },
  {
   "cell_type": "code",
   "execution_count": 15,
   "metadata": {},
   "outputs": [
    {
     "name": "stdout",
     "output_type": "stream",
     "text": [
      "Number:  1\n",
      "Number:  2\n",
      "Now number:  3\n"
     ]
    }
   ],
   "source": [
    "number = [1, 2, 3, 4, 5]\n",
    "\n",
    "## Break for stop\n",
    "for i in number:\n",
    "    if i == 3:\n",
    "        break\n",
    "    print('Number: ', i)\n",
    "\n",
    "print('Now number: ', i)\n",
    "# Stop at number 3"
   ]
  },
  {
   "cell_type": "code",
   "execution_count": 17,
   "metadata": {},
   "outputs": [
    {
     "name": "stdout",
     "output_type": "stream",
     "text": [
      "Number:  1\n",
      "Number:  2\n",
      "Number:  4\n",
      "Number:  5\n",
      "Now number:  5\n"
     ]
    }
   ],
   "source": [
    "## Continue for skip\n",
    "for i in number:\n",
    "    if i == 3:\n",
    "        continue\n",
    "    print('Number: ', i)\n",
    "\n",
    "print('Now number: ', i)\n",
    "# Number 3 skipped"
   ]
  },
  {
   "cell_type": "code",
   "execution_count": 23,
   "metadata": {},
   "outputs": [
    {
     "name": "stdout",
     "output_type": "stream",
     "text": [
      "Huruf saat ini:  D\n",
      "Huruf saat ini:  a\n",
      "Huruf saat ini:  n\n",
      "Huruf saat ini:  i\n",
      "Huruf saat ini:  e\n",
      "Huruf saat ini:  l\n",
      "++++++++++++++++++++\n",
      "Huruf saat ini:  R\n",
      "Huruf saat ini:  a\n",
      "Huruf saat ini:  d\n",
      "Huruf saat ini:  i\n",
      "Huruf saat ini:  t\n",
      "Huruf saat ini:  y\n",
      "Huruf saat ini:  o\n"
     ]
    }
   ],
   "source": [
    "## Pass will go thru\n",
    "for i in 'DanielRadityo':\n",
    "    if i == 'R':\n",
    "        pass\n",
    "        print('+'*20)\n",
    "    print('Huruf saat ini: ', i)"
   ]
  },
  {
   "cell_type": "code",
   "execution_count": 79,
   "metadata": {},
   "outputs": [
    {
     "name": "stdout",
     "output_type": "stream",
     "text": [
      " *  *  *  *  * \n",
      " *  *  *  *  * \n",
      " *  *  *  *  * \n",
      " *  *  *  *  * \n",
      " *  *  *  *  * \n",
      "\n"
     ]
    }
   ],
   "source": [
    "## Loop Drawing\n",
    "z = ''\n",
    "\n",
    "for i in range(5):\n",
    "    for j in range(5):\n",
    "        z += ' * '\n",
    "    z += '\\n'\n",
    "print(z)"
   ]
  },
  {
   "cell_type": "code",
   "execution_count": 78,
   "metadata": {},
   "outputs": [
    {
     "name": "stdout",
     "output_type": "stream",
     "text": [
      " * \n",
      " *  * \n",
      " *  *  * \n",
      " *  *  *  * \n",
      " *  *  *  *  * \n",
      " *  *  * \n",
      " * \n",
      "\n",
      "\n",
      "\n",
      "\n",
      "\n",
      "\n"
     ]
    }
   ],
   "source": [
    "## Loop Drawing\n",
    "z = ''\n",
    "\n",
    "for i in range(5):\n",
    "    for j in range(i+1):\n",
    "        z += ' * '\n",
    "    z += '\\n'\n",
    "    \n",
    "for i in range(7):\n",
    "    for j in range(j - 1):\n",
    "        z += ' * '\n",
    "    z += '\\n'\n",
    "print(z)"
   ]
  },
  {
   "cell_type": "code",
   "execution_count": 84,
   "metadata": {},
   "outputs": [
    {
     "name": "stdout",
     "output_type": "stream",
     "text": [
      " *  *  *  *  * \n",
      " *  *  *  * \n",
      " *  *  * \n",
      " *  * \n",
      " * \n",
      " *  * \n",
      " *  *  * \n",
      " *  *  *  * \n",
      " *  *  *  *  * \n",
      "\n"
     ]
    }
   ],
   "source": [
    "## Loop Drawing\n",
    "z = ''\n",
    "\n",
    "for i in range(4):\n",
    "    for j in range(5-i):\n",
    "        z += ' * '\n",
    "    z += '\\n'\n",
    "for i in range(5):\n",
    "    for j in range(i+1):\n",
    "        z += ' * '\n",
    "    z += '\\n'\n",
    "print(z)"
   ]
  }
 ],
 "metadata": {
  "kernelspec": {
   "display_name": "Python 3",
   "language": "python",
   "name": "python3"
  },
  "language_info": {
   "codemirror_mode": {
    "name": "ipython",
    "version": 3
   },
   "file_extension": ".py",
   "mimetype": "text/x-python",
   "name": "python",
   "nbconvert_exporter": "python",
   "pygments_lexer": "ipython3",
   "version": "3.8.5"
  }
 },
 "nbformat": 4,
 "nbformat_minor": 4
}
